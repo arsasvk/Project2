{
 "cells": [
  {
   "cell_type": "code",
   "execution_count": 20,
   "metadata": {},
   "outputs": [],
   "source": [
    "import pandas as pd\n",
    "from sklearn.tree import DecisionTreeRegressor\n",
    "from sklearn.metrics import mean_absolute_error\n",
    "from sklearn.model_selection import train_test_split\n",
    "from sklearn.ensemble import RandomForestRegressor\n",
    "from pprint import pprint\n",
    "from sklearn.linear_model import LinearRegression\n",
    "import re "
   ]
  },
  {
   "cell_type": "code",
   "execution_count": 97,
   "metadata": {},
   "outputs": [],
   "source": [
    "path = \"..\\\\static\\\\resources\\\\577033037_T_DB1B_MARKET.csv\""
   ]
  },
  {
   "cell_type": "code",
   "execution_count": 39,
   "metadata": {},
   "outputs": [
    {
     "data": {
      "text/html": [
       "<div>\n",
       "<style scoped>\n",
       "    .dataframe tbody tr th:only-of-type {\n",
       "        vertical-align: middle;\n",
       "    }\n",
       "\n",
       "    .dataframe tbody tr th {\n",
       "        vertical-align: top;\n",
       "    }\n",
       "\n",
       "    .dataframe thead th {\n",
       "        text-align: right;\n",
       "    }\n",
       "</style>\n",
       "<table border=\"1\" class=\"dataframe\">\n",
       "  <thead>\n",
       "    <tr style=\"text-align: right;\">\n",
       "      <th></th>\n",
       "      <th>ITIN_ID</th>\n",
       "      <th>YEAR</th>\n",
       "      <th>ORIGIN_AIRPORT_ID</th>\n",
       "      <th>ORIGIN_AIRPORT_SEQ_ID</th>\n",
       "      <th>ORIGIN_CITY_MARKET_ID</th>\n",
       "      <th>ORIGIN</th>\n",
       "      <th>ORIGIN_COUNTRY</th>\n",
       "      <th>ORIGIN_STATE_ABR</th>\n",
       "      <th>ORIGIN_WAC</th>\n",
       "      <th>DEST_AIRPORT_ID</th>\n",
       "      <th>...</th>\n",
       "      <th>DEST_STATE_ABR</th>\n",
       "      <th>DEST_STATE_NM</th>\n",
       "      <th>REPORTING_CARRIER</th>\n",
       "      <th>BULK_FARE</th>\n",
       "      <th>PASSENGERS</th>\n",
       "      <th>MARKET_FARE</th>\n",
       "      <th>MARKET_DISTANCE</th>\n",
       "      <th>MARKET_MILES_FLOWN</th>\n",
       "      <th>NONSTOP_MILES</th>\n",
       "      <th>Unnamed: 22</th>\n",
       "    </tr>\n",
       "  </thead>\n",
       "  <tbody>\n",
       "    <tr>\n",
       "      <th>0</th>\n",
       "      <td>201819</td>\n",
       "      <td>2018</td>\n",
       "      <td>10135</td>\n",
       "      <td>1013505</td>\n",
       "      <td>30135</td>\n",
       "      <td>ABE</td>\n",
       "      <td>US</td>\n",
       "      <td>PA</td>\n",
       "      <td>23</td>\n",
       "      <td>10397</td>\n",
       "      <td>...</td>\n",
       "      <td>GA</td>\n",
       "      <td>Georgia</td>\n",
       "      <td>9E</td>\n",
       "      <td>0.0</td>\n",
       "      <td>1.0</td>\n",
       "      <td>5.0</td>\n",
       "      <td>692.0</td>\n",
       "      <td>692.0</td>\n",
       "      <td>692.0</td>\n",
       "      <td>NaN</td>\n",
       "    </tr>\n",
       "    <tr>\n",
       "      <th>1</th>\n",
       "      <td>2018110</td>\n",
       "      <td>2018</td>\n",
       "      <td>10135</td>\n",
       "      <td>1013505</td>\n",
       "      <td>30135</td>\n",
       "      <td>ABE</td>\n",
       "      <td>US</td>\n",
       "      <td>PA</td>\n",
       "      <td>23</td>\n",
       "      <td>10397</td>\n",
       "      <td>...</td>\n",
       "      <td>GA</td>\n",
       "      <td>Georgia</td>\n",
       "      <td>9E</td>\n",
       "      <td>0.0</td>\n",
       "      <td>1.0</td>\n",
       "      <td>274.0</td>\n",
       "      <td>692.0</td>\n",
       "      <td>692.0</td>\n",
       "      <td>692.0</td>\n",
       "      <td>NaN</td>\n",
       "    </tr>\n",
       "    <tr>\n",
       "      <th>2</th>\n",
       "      <td>2018111</td>\n",
       "      <td>2018</td>\n",
       "      <td>10135</td>\n",
       "      <td>1013505</td>\n",
       "      <td>30135</td>\n",
       "      <td>ABE</td>\n",
       "      <td>US</td>\n",
       "      <td>PA</td>\n",
       "      <td>23</td>\n",
       "      <td>10397</td>\n",
       "      <td>...</td>\n",
       "      <td>GA</td>\n",
       "      <td>Georgia</td>\n",
       "      <td>9E</td>\n",
       "      <td>0.0</td>\n",
       "      <td>1.0</td>\n",
       "      <td>415.0</td>\n",
       "      <td>692.0</td>\n",
       "      <td>692.0</td>\n",
       "      <td>692.0</td>\n",
       "      <td>NaN</td>\n",
       "    </tr>\n",
       "    <tr>\n",
       "      <th>3</th>\n",
       "      <td>2018112</td>\n",
       "      <td>2018</td>\n",
       "      <td>10135</td>\n",
       "      <td>1013505</td>\n",
       "      <td>30135</td>\n",
       "      <td>ABE</td>\n",
       "      <td>US</td>\n",
       "      <td>PA</td>\n",
       "      <td>23</td>\n",
       "      <td>10397</td>\n",
       "      <td>...</td>\n",
       "      <td>GA</td>\n",
       "      <td>Georgia</td>\n",
       "      <td>9E</td>\n",
       "      <td>0.0</td>\n",
       "      <td>1.0</td>\n",
       "      <td>170.0</td>\n",
       "      <td>692.0</td>\n",
       "      <td>692.0</td>\n",
       "      <td>692.0</td>\n",
       "      <td>NaN</td>\n",
       "    </tr>\n",
       "    <tr>\n",
       "      <th>4</th>\n",
       "      <td>2018112</td>\n",
       "      <td>2018</td>\n",
       "      <td>10397</td>\n",
       "      <td>1039707</td>\n",
       "      <td>30397</td>\n",
       "      <td>ATL</td>\n",
       "      <td>US</td>\n",
       "      <td>GA</td>\n",
       "      <td>34</td>\n",
       "      <td>10135</td>\n",
       "      <td>...</td>\n",
       "      <td>PA</td>\n",
       "      <td>Pennsylvania</td>\n",
       "      <td>9E</td>\n",
       "      <td>0.0</td>\n",
       "      <td>1.0</td>\n",
       "      <td>170.0</td>\n",
       "      <td>692.0</td>\n",
       "      <td>692.0</td>\n",
       "      <td>692.0</td>\n",
       "      <td>NaN</td>\n",
       "    </tr>\n",
       "  </tbody>\n",
       "</table>\n",
       "<p>5 rows × 23 columns</p>\n",
       "</div>"
      ],
      "text/plain": [
       "   ITIN_ID  YEAR  ORIGIN_AIRPORT_ID  ORIGIN_AIRPORT_SEQ_ID  \\\n",
       "0   201819  2018              10135                1013505   \n",
       "1  2018110  2018              10135                1013505   \n",
       "2  2018111  2018              10135                1013505   \n",
       "3  2018112  2018              10135                1013505   \n",
       "4  2018112  2018              10397                1039707   \n",
       "\n",
       "   ORIGIN_CITY_MARKET_ID ORIGIN ORIGIN_COUNTRY ORIGIN_STATE_ABR  ORIGIN_WAC  \\\n",
       "0                  30135    ABE             US               PA          23   \n",
       "1                  30135    ABE             US               PA          23   \n",
       "2                  30135    ABE             US               PA          23   \n",
       "3                  30135    ABE             US               PA          23   \n",
       "4                  30397    ATL             US               GA          34   \n",
       "\n",
       "   DEST_AIRPORT_ID     ...       DEST_STATE_ABR  DEST_STATE_NM  \\\n",
       "0            10397     ...                   GA        Georgia   \n",
       "1            10397     ...                   GA        Georgia   \n",
       "2            10397     ...                   GA        Georgia   \n",
       "3            10397     ...                   GA        Georgia   \n",
       "4            10135     ...                   PA   Pennsylvania   \n",
       "\n",
       "  REPORTING_CARRIER BULK_FARE PASSENGERS MARKET_FARE  MARKET_DISTANCE  \\\n",
       "0                9E       0.0        1.0         5.0            692.0   \n",
       "1                9E       0.0        1.0       274.0            692.0   \n",
       "2                9E       0.0        1.0       415.0            692.0   \n",
       "3                9E       0.0        1.0       170.0            692.0   \n",
       "4                9E       0.0        1.0       170.0            692.0   \n",
       "\n",
       "   MARKET_MILES_FLOWN  NONSTOP_MILES  Unnamed: 22  \n",
       "0               692.0          692.0          NaN  \n",
       "1               692.0          692.0          NaN  \n",
       "2               692.0          692.0          NaN  \n",
       "3               692.0          692.0          NaN  \n",
       "4               692.0          692.0          NaN  \n",
       "\n",
       "[5 rows x 23 columns]"
      ]
     },
     "execution_count": 39,
     "metadata": {},
     "output_type": "execute_result"
    }
   ],
   "source": [
    "ticket_data = pd.read_csv(path)\n",
    "\n",
    "ticket_data.head()"
   ]
  },
  {
   "cell_type": "code",
   "execution_count": 65,
   "metadata": {},
   "outputs": [
    {
     "data": {
      "text/html": [
       "<div>\n",
       "<style scoped>\n",
       "    .dataframe tbody tr th:only-of-type {\n",
       "        vertical-align: middle;\n",
       "    }\n",
       "\n",
       "    .dataframe tbody tr th {\n",
       "        vertical-align: top;\n",
       "    }\n",
       "\n",
       "    .dataframe thead th {\n",
       "        text-align: right;\n",
       "    }\n",
       "</style>\n",
       "<table border=\"1\" class=\"dataframe\">\n",
       "  <thead>\n",
       "    <tr style=\"text-align: right;\">\n",
       "      <th></th>\n",
       "      <th>ITIN_ID</th>\n",
       "      <th>YEAR</th>\n",
       "      <th>ORIGIN_AIRPORT_ID</th>\n",
       "      <th>ORIGIN_AIRPORT_SEQ_ID</th>\n",
       "      <th>ORIGIN_CITY_MARKET_ID</th>\n",
       "      <th>ORIGIN</th>\n",
       "      <th>ORIGIN_COUNTRY</th>\n",
       "      <th>ORIGIN_STATE_ABR</th>\n",
       "      <th>ORIGIN_WAC</th>\n",
       "      <th>DEST_AIRPORT_ID</th>\n",
       "      <th>...</th>\n",
       "      <th>DEST</th>\n",
       "      <th>DEST_STATE_ABR</th>\n",
       "      <th>DEST_STATE_NM</th>\n",
       "      <th>REPORTING_CARRIER</th>\n",
       "      <th>BULK_FARE</th>\n",
       "      <th>PASSENGERS</th>\n",
       "      <th>MARKET_FARE</th>\n",
       "      <th>MARKET_DISTANCE</th>\n",
       "      <th>MARKET_MILES_FLOWN</th>\n",
       "      <th>NONSTOP_MILES</th>\n",
       "    </tr>\n",
       "  </thead>\n",
       "  <tbody>\n",
       "    <tr>\n",
       "      <th>0</th>\n",
       "      <td>201819</td>\n",
       "      <td>2018</td>\n",
       "      <td>10135</td>\n",
       "      <td>1013505</td>\n",
       "      <td>30135</td>\n",
       "      <td>ABE</td>\n",
       "      <td>US</td>\n",
       "      <td>PA</td>\n",
       "      <td>23</td>\n",
       "      <td>10397</td>\n",
       "      <td>...</td>\n",
       "      <td>ATL</td>\n",
       "      <td>GA</td>\n",
       "      <td>Georgia</td>\n",
       "      <td>9E</td>\n",
       "      <td>0.0</td>\n",
       "      <td>1.0</td>\n",
       "      <td>5.0</td>\n",
       "      <td>692.0</td>\n",
       "      <td>692.0</td>\n",
       "      <td>692.0</td>\n",
       "    </tr>\n",
       "    <tr>\n",
       "      <th>1</th>\n",
       "      <td>2018110</td>\n",
       "      <td>2018</td>\n",
       "      <td>10135</td>\n",
       "      <td>1013505</td>\n",
       "      <td>30135</td>\n",
       "      <td>ABE</td>\n",
       "      <td>US</td>\n",
       "      <td>PA</td>\n",
       "      <td>23</td>\n",
       "      <td>10397</td>\n",
       "      <td>...</td>\n",
       "      <td>ATL</td>\n",
       "      <td>GA</td>\n",
       "      <td>Georgia</td>\n",
       "      <td>9E</td>\n",
       "      <td>0.0</td>\n",
       "      <td>1.0</td>\n",
       "      <td>274.0</td>\n",
       "      <td>692.0</td>\n",
       "      <td>692.0</td>\n",
       "      <td>692.0</td>\n",
       "    </tr>\n",
       "    <tr>\n",
       "      <th>2</th>\n",
       "      <td>2018111</td>\n",
       "      <td>2018</td>\n",
       "      <td>10135</td>\n",
       "      <td>1013505</td>\n",
       "      <td>30135</td>\n",
       "      <td>ABE</td>\n",
       "      <td>US</td>\n",
       "      <td>PA</td>\n",
       "      <td>23</td>\n",
       "      <td>10397</td>\n",
       "      <td>...</td>\n",
       "      <td>ATL</td>\n",
       "      <td>GA</td>\n",
       "      <td>Georgia</td>\n",
       "      <td>9E</td>\n",
       "      <td>0.0</td>\n",
       "      <td>1.0</td>\n",
       "      <td>415.0</td>\n",
       "      <td>692.0</td>\n",
       "      <td>692.0</td>\n",
       "      <td>692.0</td>\n",
       "    </tr>\n",
       "    <tr>\n",
       "      <th>3</th>\n",
       "      <td>2018112</td>\n",
       "      <td>2018</td>\n",
       "      <td>10135</td>\n",
       "      <td>1013505</td>\n",
       "      <td>30135</td>\n",
       "      <td>ABE</td>\n",
       "      <td>US</td>\n",
       "      <td>PA</td>\n",
       "      <td>23</td>\n",
       "      <td>10397</td>\n",
       "      <td>...</td>\n",
       "      <td>ATL</td>\n",
       "      <td>GA</td>\n",
       "      <td>Georgia</td>\n",
       "      <td>9E</td>\n",
       "      <td>0.0</td>\n",
       "      <td>1.0</td>\n",
       "      <td>170.0</td>\n",
       "      <td>692.0</td>\n",
       "      <td>692.0</td>\n",
       "      <td>692.0</td>\n",
       "    </tr>\n",
       "    <tr>\n",
       "      <th>4</th>\n",
       "      <td>2018112</td>\n",
       "      <td>2018</td>\n",
       "      <td>10397</td>\n",
       "      <td>1039707</td>\n",
       "      <td>30397</td>\n",
       "      <td>ATL</td>\n",
       "      <td>US</td>\n",
       "      <td>GA</td>\n",
       "      <td>34</td>\n",
       "      <td>10135</td>\n",
       "      <td>...</td>\n",
       "      <td>ABE</td>\n",
       "      <td>PA</td>\n",
       "      <td>Pennsylvania</td>\n",
       "      <td>9E</td>\n",
       "      <td>0.0</td>\n",
       "      <td>1.0</td>\n",
       "      <td>170.0</td>\n",
       "      <td>692.0</td>\n",
       "      <td>692.0</td>\n",
       "      <td>692.0</td>\n",
       "    </tr>\n",
       "  </tbody>\n",
       "</table>\n",
       "<p>5 rows × 22 columns</p>\n",
       "</div>"
      ],
      "text/plain": [
       "   ITIN_ID  YEAR  ORIGIN_AIRPORT_ID  ORIGIN_AIRPORT_SEQ_ID  \\\n",
       "0   201819  2018              10135                1013505   \n",
       "1  2018110  2018              10135                1013505   \n",
       "2  2018111  2018              10135                1013505   \n",
       "3  2018112  2018              10135                1013505   \n",
       "4  2018112  2018              10397                1039707   \n",
       "\n",
       "   ORIGIN_CITY_MARKET_ID ORIGIN ORIGIN_COUNTRY ORIGIN_STATE_ABR  ORIGIN_WAC  \\\n",
       "0                  30135    ABE             US               PA          23   \n",
       "1                  30135    ABE             US               PA          23   \n",
       "2                  30135    ABE             US               PA          23   \n",
       "3                  30135    ABE             US               PA          23   \n",
       "4                  30397    ATL             US               GA          34   \n",
       "\n",
       "   DEST_AIRPORT_ID      ...        DEST  DEST_STATE_ABR DEST_STATE_NM  \\\n",
       "0            10397      ...         ATL              GA       Georgia   \n",
       "1            10397      ...         ATL              GA       Georgia   \n",
       "2            10397      ...         ATL              GA       Georgia   \n",
       "3            10397      ...         ATL              GA       Georgia   \n",
       "4            10135      ...         ABE              PA  Pennsylvania   \n",
       "\n",
       "  REPORTING_CARRIER BULK_FARE PASSENGERS  MARKET_FARE  MARKET_DISTANCE  \\\n",
       "0                9E       0.0        1.0          5.0            692.0   \n",
       "1                9E       0.0        1.0        274.0            692.0   \n",
       "2                9E       0.0        1.0        415.0            692.0   \n",
       "3                9E       0.0        1.0        170.0            692.0   \n",
       "4                9E       0.0        1.0        170.0            692.0   \n",
       "\n",
       "   MARKET_MILES_FLOWN  NONSTOP_MILES  \n",
       "0               692.0          692.0  \n",
       "1               692.0          692.0  \n",
       "2               692.0          692.0  \n",
       "3               692.0          692.0  \n",
       "4               692.0          692.0  \n",
       "\n",
       "[5 rows x 22 columns]"
      ]
     },
     "execution_count": 65,
     "metadata": {},
     "output_type": "execute_result"
    }
   ],
   "source": [
    "cleanedticket_data = ticket_data.dropna(how='all', axis='columns') # removing the unnamed column\n",
    "\n",
    "cleanedticket_data.head()"
   ]
  },
  {
   "cell_type": "code",
   "execution_count": 50,
   "metadata": {},
   "outputs": [
    {
     "data": {
      "text/plain": [
       "Index(['ITIN_ID', 'YEAR', 'ORIGIN_AIRPORT_ID', 'ORIGIN_AIRPORT_SEQ_ID',\n",
       "       'ORIGIN_CITY_MARKET_ID', 'ORIGIN', 'ORIGIN_COUNTRY', 'ORIGIN_STATE_ABR',\n",
       "       'ORIGIN_WAC', 'DEST_AIRPORT_ID', 'DEST_AIRPORT_SEQ_ID',\n",
       "       'DEST_CITY_MARKET_ID', 'DEST', 'DEST_STATE_ABR', 'DEST_STATE_NM',\n",
       "       'REPORTING_CARRIER', 'BULK_FARE', 'PASSENGERS', 'MARKET_FARE',\n",
       "       'MARKET_DISTANCE', 'MARKET_MILES_FLOWN', 'NONSTOP_MILES'],\n",
       "      dtype='object')"
      ]
     },
     "execution_count": 50,
     "metadata": {},
     "output_type": "execute_result"
    }
   ],
   "source": [
    "cleanedticket_data.columns"
   ]
  },
  {
   "cell_type": "code",
   "execution_count": 67,
   "metadata": {},
   "outputs": [],
   "source": [
    "y = cleanedticket_data[\"MARKET_FARE\"]  # The prediction data"
   ]
  },
  {
   "cell_type": "code",
   "execution_count": 71,
   "metadata": {},
   "outputs": [],
   "source": [
    "features = [\"PASSENGERS\",\"MARKET_MILES_FLOWN\", \"ORIGIN_CITY_MARKET_ID\", \"DEST_AIRPORT_ID\" ] \n",
    "\n",
    "X = cleanedticket_data[features]  # features to help predict the data"
   ]
  },
  {
   "cell_type": "code",
   "execution_count": 72,
   "metadata": {},
   "outputs": [
    {
     "data": {
      "text/plain": [
       "(6093175, 4)"
      ]
     },
     "execution_count": 72,
     "metadata": {},
     "output_type": "execute_result"
    }
   ],
   "source": [
    "X.shape"
   ]
  },
  {
   "cell_type": "code",
   "execution_count": 73,
   "metadata": {},
   "outputs": [
    {
     "data": {
      "text/plain": [
       "(6093175,)"
      ]
     },
     "execution_count": 73,
     "metadata": {},
     "output_type": "execute_result"
    }
   ],
   "source": [
    "y.shape"
   ]
  },
  {
   "cell_type": "code",
   "execution_count": 89,
   "metadata": {},
   "outputs": [],
   "source": [
    "train_X, val_X, train_y, val_y = train_test_split(X, y, random_state=1)"
   ]
  },
  {
   "cell_type": "code",
   "execution_count": 90,
   "metadata": {},
   "outputs": [],
   "source": [
    "ticketmodel = DecisionTreeRegressor(random_state=0)"
   ]
  },
  {
   "cell_type": "code",
   "execution_count": 91,
   "metadata": {},
   "outputs": [
    {
     "data": {
      "text/plain": [
       "DecisionTreeRegressor(criterion='mse', max_depth=None, max_features=None,\n",
       "           max_leaf_nodes=None, min_impurity_decrease=0.0,\n",
       "           min_impurity_split=None, min_samples_leaf=1,\n",
       "           min_samples_split=2, min_weight_fraction_leaf=0.0,\n",
       "           presort=False, random_state=0, splitter='best')"
      ]
     },
     "execution_count": 91,
     "metadata": {},
     "output_type": "execute_result"
    }
   ],
   "source": [
    "ticketmodel.fit(train_X,train_y) # tranining the model"
   ]
  },
  {
   "cell_type": "code",
   "execution_count": 92,
   "metadata": {},
   "outputs": [],
   "source": [
    "val_predictions = ticketmodel.predict(val_X)"
   ]
  },
  {
   "cell_type": "code",
   "execution_count": 93,
   "metadata": {},
   "outputs": [
    {
     "name": "stdout",
     "output_type": "stream",
     "text": [
      "[338.22222222 270.58666667 409.1155     ... 286.09026316 245.96\n",
      " 263.50472727]\n"
     ]
    }
   ],
   "source": [
    "print(val_predictions)"
   ]
  },
  {
   "cell_type": "code",
   "execution_count": 94,
   "metadata": {},
   "outputs": [
    {
     "name": "stdout",
     "output_type": "stream",
     "text": [
      "116.01075197116509\n"
     ]
    }
   ],
   "source": [
    "print(mean_absolute_error(val_y, val_predictions))"
   ]
  },
  {
   "cell_type": "code",
   "execution_count": 95,
   "metadata": {},
   "outputs": [],
   "source": [
    "def get_mae(max_leaf_nodes, train_X, val_X, train_y, val_y):\n",
    "    model = DecisionTreeRegressor(max_leaf_nodes=max_leaf_nodes, random_state=0)\n",
    "    model.fit(train_X, train_y)\n",
    "    preds_val = model.predict(val_X)\n",
    "    mae = mean_absolute_error(val_y, preds_val)\n",
    "    return(mae)"
   ]
  },
  {
   "cell_type": "code",
   "execution_count": 96,
   "metadata": {},
   "outputs": [
    {
     "name": "stdout",
     "output_type": "stream",
     "text": [
      "Max leaf nodes: 5  \t\t Mean Absolute Error:  121\n",
      "Max leaf nodes: 50  \t\t Mean Absolute Error:  119\n",
      "Max leaf nodes: 500  \t\t Mean Absolute Error:  118\n",
      "Max leaf nodes: 5000  \t\t Mean Absolute Error:  115\n"
     ]
    }
   ],
   "source": [
    "for max_leaf_nodes in [5, 50, 500, 5000]:\n",
    "    my_mae = get_mae(max_leaf_nodes, train_X, val_X, train_y, val_y)\n",
    "    print(\"Max leaf nodes: %d  \\t\\t Mean Absolute Error:  %d\" %(max_leaf_nodes, my_mae))"
   ]
  },
  {
   "cell_type": "code",
   "execution_count": 153,
   "metadata": {},
   "outputs": [],
   "source": [
    "best_tree_size = 5000"
   ]
  },
  {
   "cell_type": "code",
   "execution_count": 98,
   "metadata": {},
   "outputs": [],
   "source": [
    "val_predictions2 = ticketmodel.predict(X)"
   ]
  },
  {
   "cell_type": "code",
   "execution_count": 103,
   "metadata": {},
   "outputs": [
    {
     "name": "stdout",
     "output_type": "stream",
     "text": [
      "array([270.35842365, 270.35842365, 270.35842365, ..., 362.36846154,\n",
      "       369.79958848, 362.36846154])\n"
     ]
    }
   ],
   "source": [
    "pprint(val_predictions2)"
   ]
  },
  {
   "cell_type": "code",
   "execution_count": 106,
   "metadata": {},
   "outputs": [],
   "source": [
    "output = pd.DataFrame({'MARKET_FARE': val_predictions2})"
   ]
  },
  {
   "cell_type": "code",
   "execution_count": 107,
   "metadata": {},
   "outputs": [
    {
     "data": {
      "text/html": [
       "<div>\n",
       "<style scoped>\n",
       "    .dataframe tbody tr th:only-of-type {\n",
       "        vertical-align: middle;\n",
       "    }\n",
       "\n",
       "    .dataframe tbody tr th {\n",
       "        vertical-align: top;\n",
       "    }\n",
       "\n",
       "    .dataframe thead th {\n",
       "        text-align: right;\n",
       "    }\n",
       "</style>\n",
       "<table border=\"1\" class=\"dataframe\">\n",
       "  <thead>\n",
       "    <tr style=\"text-align: right;\">\n",
       "      <th></th>\n",
       "      <th>MARKET_FARE</th>\n",
       "    </tr>\n",
       "  </thead>\n",
       "  <tbody>\n",
       "    <tr>\n",
       "      <th>0</th>\n",
       "      <td>270.358424</td>\n",
       "    </tr>\n",
       "    <tr>\n",
       "      <th>1</th>\n",
       "      <td>270.358424</td>\n",
       "    </tr>\n",
       "    <tr>\n",
       "      <th>2</th>\n",
       "      <td>270.358424</td>\n",
       "    </tr>\n",
       "    <tr>\n",
       "      <th>3</th>\n",
       "      <td>270.358424</td>\n",
       "    </tr>\n",
       "    <tr>\n",
       "      <th>4</th>\n",
       "      <td>270.140000</td>\n",
       "    </tr>\n",
       "  </tbody>\n",
       "</table>\n",
       "</div>"
      ],
      "text/plain": [
       "   MARKET_FARE\n",
       "0   270.358424\n",
       "1   270.358424\n",
       "2   270.358424\n",
       "3   270.358424\n",
       "4   270.140000"
      ]
     },
     "execution_count": 107,
     "metadata": {},
     "output_type": "execute_result"
    }
   ],
   "source": [
    "output.head()"
   ]
  },
  {
   "cell_type": "markdown",
   "metadata": {},
   "source": [
    "## Testing the data"
   ]
  },
  {
   "cell_type": "code",
   "execution_count": 177,
   "metadata": {},
   "outputs": [],
   "source": [
    "test_datadf = pd.read_csv(\"..\\\\static\\\\resources\\\\testdata.csv\")"
   ]
  },
  {
   "cell_type": "code",
   "execution_count": 178,
   "metadata": {},
   "outputs": [
    {
     "data": {
      "text/html": [
       "<div>\n",
       "<style scoped>\n",
       "    .dataframe tbody tr th:only-of-type {\n",
       "        vertical-align: middle;\n",
       "    }\n",
       "\n",
       "    .dataframe tbody tr th {\n",
       "        vertical-align: top;\n",
       "    }\n",
       "\n",
       "    .dataframe thead th {\n",
       "        text-align: right;\n",
       "    }\n",
       "</style>\n",
       "<table border=\"1\" class=\"dataframe\">\n",
       "  <thead>\n",
       "    <tr style=\"text-align: right;\">\n",
       "      <th></th>\n",
       "      <th>PASSENGERS</th>\n",
       "      <th>MARKET_MILES_FLOWN</th>\n",
       "      <th>ORIGIN_CITY_MARKET_ID</th>\n",
       "      <th>DEST_AIRPORT_ID</th>\n",
       "    </tr>\n",
       "  </thead>\n",
       "  <tbody>\n",
       "    <tr>\n",
       "      <th>0</th>\n",
       "      <td>1</td>\n",
       "      <td>692</td>\n",
       "      <td>30135</td>\n",
       "      <td>10397</td>\n",
       "    </tr>\n",
       "  </tbody>\n",
       "</table>\n",
       "</div>"
      ],
      "text/plain": [
       "   PASSENGERS  MARKET_MILES_FLOWN  ORIGIN_CITY_MARKET_ID  DEST_AIRPORT_ID\n",
       "0           1                 692                  30135            10397"
      ]
     },
     "execution_count": 178,
     "metadata": {},
     "output_type": "execute_result"
    }
   ],
   "source": [
    "test_datadf.head()"
   ]
  },
  {
   "cell_type": "code",
   "execution_count": 179,
   "metadata": {},
   "outputs": [
    {
     "data": {
      "text/plain": [
       "Index(['PASSENGERS', 'MARKET_MILES_FLOWN', 'ORIGIN_CITY_MARKET_ID',\n",
       "       'DEST_AIRPORT_ID'],\n",
       "      dtype='object')"
      ]
     },
     "execution_count": 179,
     "metadata": {},
     "output_type": "execute_result"
    }
   ],
   "source": [
    "test_datadf.columns"
   ]
  },
  {
   "cell_type": "code",
   "execution_count": 180,
   "metadata": {},
   "outputs": [],
   "source": [
    "features = [\"PASSENGERS\",\"MARKET_MILES_FLOWN\", \"ORIGIN_CITY_MARKET_ID\", \"DEST_AIRPORT_ID\" ] \n",
    "\n",
    "test_X  = test_datadf[features]"
   ]
  },
  {
   "cell_type": "code",
   "execution_count": 181,
   "metadata": {},
   "outputs": [],
   "source": [
    "newTicketmodel = DecisionTreeRegressor(max_leaf_nodes=5000, random_state=0)  #best_tree_size = 5000"
   ]
  },
  {
   "cell_type": "code",
   "execution_count": 182,
   "metadata": {},
   "outputs": [],
   "source": [
    "newTicketmodel.fit(X,y)\n",
    "\n",
    "test_preds = newTicketmodel.predict(test_X)\n"
   ]
  },
  {
   "cell_type": "code",
   "execution_count": 183,
   "metadata": {},
   "outputs": [
    {
     "name": "stdout",
     "output_type": "stream",
     "text": [
      "[267.17373333]\n"
     ]
    }
   ],
   "source": [
    "print(test_preds)"
   ]
  },
  {
   "cell_type": "code",
   "execution_count": 184,
   "metadata": {},
   "outputs": [],
   "source": [
    "randomticketmodel = RandomForestRegressor(random_state=1)"
   ]
  },
  {
   "cell_type": "code",
   "execution_count": 185,
   "metadata": {},
   "outputs": [
    {
     "name": "stderr",
     "output_type": "stream",
     "text": [
      "C:\\users\\MeenakshiNadimuthu\\lib\\site-packages\\sklearn\\ensemble\\forest.py:246: FutureWarning: The default value of n_estimators will change from 10 in version 0.20 to 100 in 0.22.\n",
      "  \"10 in version 0.20 to 100 in 0.22.\", FutureWarning)\n"
     ]
    }
   ],
   "source": [
    "randomticketmodel.fit(X,y)\n",
    "\n",
    "random_preds = randomticketmodel.predict(test_X)"
   ]
  },
  {
   "cell_type": "code",
   "execution_count": 186,
   "metadata": {},
   "outputs": [
    {
     "name": "stdout",
     "output_type": "stream",
     "text": [
      "[278.29607017]\n"
     ]
    }
   ],
   "source": [
    "print(random_preds)"
   ]
  },
  {
   "cell_type": "code",
   "execution_count": null,
   "metadata": {},
   "outputs": [],
   "source": [
    "linearticketmodel = LinearRegression()"
   ]
  },
  {
   "cell_type": "code",
   "execution_count": null,
   "metadata": {},
   "outputs": [],
   "source": [
    "linearticketmodel.fit(X, y)\n",
    "\n",
    "linearpreds = linearticketmodel.predict(test_X) "
   ]
  },
  {
   "cell_type": "code",
   "execution_count": 187,
   "metadata": {},
   "outputs": [],
   "source": [
    "ysample = y.sample(n=1, random_state=1)"
   ]
  },
  {
   "cell_type": "code",
   "execution_count": 188,
   "metadata": {},
   "outputs": [
    {
     "name": "stdout",
     "output_type": "stream",
     "text": [
      "262.1737333333331\n"
     ]
    }
   ],
   "source": [
    "print(mean_absolute_error(ysample,test_preds))"
   ]
  },
  {
   "cell_type": "code",
   "execution_count": 189,
   "metadata": {},
   "outputs": [
    {
     "name": "stdout",
     "output_type": "stream",
     "text": [
      "273.2960701692326\n"
     ]
    }
   ],
   "source": [
    "print(mean_absolute_error(ysample,random_preds))"
   ]
  },
  {
   "cell_type": "code",
   "execution_count": null,
   "metadata": {},
   "outputs": [],
   "source": []
  },
  {
   "cell_type": "code",
   "execution_count": null,
   "metadata": {},
   "outputs": [],
   "source": []
  },
  {
   "cell_type": "code",
   "execution_count": 61,
   "metadata": {},
   "outputs": [],
   "source": [
    "Airlines = [\"Hawaiian Airlines Inc.\",\n",
    "\"Delta Air Lines Inc.\",\n",
    "\"United Air Lines Inc.\",\n",
    "\"American Airlines Inc.\",\n",
    "\"Frontier Airlines Inc.\",\n",
    "\"Southwest Airlines Co.\",\n",
    "\"JetBlue Airways\",\n",
    "\"ExpressJet Airlines LLC\",\n",
    "\"SkyWest Airlines Inc.\",\n",
    "\"Alaska Airlines Inc.\"]"
   ]
  },
  {
   "cell_type": "code",
   "execution_count": 73,
   "metadata": {},
   "outputs": [
    {
     "data": {
      "text/html": [
       "<div>\n",
       "<style scoped>\n",
       "    .dataframe tbody tr th:only-of-type {\n",
       "        vertical-align: middle;\n",
       "    }\n",
       "\n",
       "    .dataframe tbody tr th {\n",
       "        vertical-align: top;\n",
       "    }\n",
       "\n",
       "    .dataframe thead th {\n",
       "        text-align: right;\n",
       "    }\n",
       "</style>\n",
       "<table border=\"1\" class=\"dataframe\">\n",
       "  <thead>\n",
       "    <tr style=\"text-align: right;\">\n",
       "      <th></th>\n",
       "      <th>Code</th>\n",
       "      <th>Description</th>\n",
       "    </tr>\n",
       "  </thead>\n",
       "  <tbody>\n",
       "    <tr>\n",
       "      <th>0</th>\n",
       "      <td>02Q</td>\n",
       "      <td>Titan Airways</td>\n",
       "    </tr>\n",
       "    <tr>\n",
       "      <th>1</th>\n",
       "      <td>04Q</td>\n",
       "      <td>Tradewind Aviation</td>\n",
       "    </tr>\n",
       "    <tr>\n",
       "      <th>2</th>\n",
       "      <td>05Q</td>\n",
       "      <td>Comlux Aviation, AG</td>\n",
       "    </tr>\n",
       "    <tr>\n",
       "      <th>3</th>\n",
       "      <td>06Q</td>\n",
       "      <td>Master Top Linhas Aereas Ltd.</td>\n",
       "    </tr>\n",
       "    <tr>\n",
       "      <th>4</th>\n",
       "      <td>07Q</td>\n",
       "      <td>Flair Airlines Ltd.</td>\n",
       "    </tr>\n",
       "  </tbody>\n",
       "</table>\n",
       "</div>"
      ],
      "text/plain": [
       "  Code                    Description\n",
       "0  02Q                  Titan Airways\n",
       "1  04Q             Tradewind Aviation\n",
       "2  05Q            Comlux Aviation, AG\n",
       "3  06Q  Master Top Linhas Aereas Ltd.\n",
       "4  07Q            Flair Airlines Ltd."
      ]
     },
     "execution_count": 73,
     "metadata": {},
     "output_type": "execute_result"
    }
   ],
   "source": [
    "EntireCarrierDF = pd.read_csv(\"../resources/L_CARRIERS.csv\")\n",
    "EntireCarrierDF.set_index(\"Code\")\n",
    "\n",
    "EntireCarrierDF.head()"
   ]
  },
  {
   "cell_type": "code",
   "execution_count": 97,
   "metadata": {},
   "outputs": [],
   "source": [
    "CarrierCode = []\n",
    "for airline in Airlines: \n",
    "    code = list(EntireCarrierDF.loc[EntireCarrierDF[\"Description\"] == airline, \"Code\"])\n",
    "    CarrierCode.append(code[0])"
   ]
  },
  {
   "cell_type": "code",
   "execution_count": 99,
   "metadata": {},
   "outputs": [
    {
     "data": {
      "text/html": [
       "<div>\n",
       "<style scoped>\n",
       "    .dataframe tbody tr th:only-of-type {\n",
       "        vertical-align: middle;\n",
       "    }\n",
       "\n",
       "    .dataframe tbody tr th {\n",
       "        vertical-align: top;\n",
       "    }\n",
       "\n",
       "    .dataframe thead th {\n",
       "        text-align: right;\n",
       "    }\n",
       "</style>\n",
       "<table border=\"1\" class=\"dataframe\">\n",
       "  <thead>\n",
       "    <tr style=\"text-align: right;\">\n",
       "      <th></th>\n",
       "      <th>Code</th>\n",
       "      <th>Description</th>\n",
       "    </tr>\n",
       "  </thead>\n",
       "  <tbody>\n",
       "    <tr>\n",
       "      <th>0</th>\n",
       "      <td>AA</td>\n",
       "      <td>American Airlines Inc.</td>\n",
       "    </tr>\n",
       "    <tr>\n",
       "      <th>1</th>\n",
       "      <td>AS</td>\n",
       "      <td>Alaska Airlines Inc.</td>\n",
       "    </tr>\n",
       "    <tr>\n",
       "      <th>2</th>\n",
       "      <td>B6</td>\n",
       "      <td>JetBlue Airways</td>\n",
       "    </tr>\n",
       "    <tr>\n",
       "      <th>3</th>\n",
       "      <td>DL</td>\n",
       "      <td>Delta Air Lines Inc.</td>\n",
       "    </tr>\n",
       "    <tr>\n",
       "      <th>4</th>\n",
       "      <td>EV</td>\n",
       "      <td>ExpressJet Airlines LLC</td>\n",
       "    </tr>\n",
       "    <tr>\n",
       "      <th>5</th>\n",
       "      <td>F9</td>\n",
       "      <td>Frontier Airlines Inc.</td>\n",
       "    </tr>\n",
       "    <tr>\n",
       "      <th>6</th>\n",
       "      <td>HA</td>\n",
       "      <td>Hawaiian Airlines Inc.</td>\n",
       "    </tr>\n",
       "    <tr>\n",
       "      <th>7</th>\n",
       "      <td>OO</td>\n",
       "      <td>SkyWest Airlines Inc.</td>\n",
       "    </tr>\n",
       "    <tr>\n",
       "      <th>8</th>\n",
       "      <td>UA</td>\n",
       "      <td>United Air Lines Inc.</td>\n",
       "    </tr>\n",
       "    <tr>\n",
       "      <th>9</th>\n",
       "      <td>WN</td>\n",
       "      <td>Southwest Airlines Co.</td>\n",
       "    </tr>\n",
       "  </tbody>\n",
       "</table>\n",
       "</div>"
      ],
      "text/plain": [
       "  Code              Description\n",
       "0   AA   American Airlines Inc.\n",
       "1   AS     Alaska Airlines Inc.\n",
       "2   B6          JetBlue Airways\n",
       "3   DL     Delta Air Lines Inc.\n",
       "4   EV  ExpressJet Airlines LLC\n",
       "5   F9   Frontier Airlines Inc.\n",
       "6   HA   Hawaiian Airlines Inc.\n",
       "7   OO    SkyWest Airlines Inc.\n",
       "8   UA    United Air Lines Inc.\n",
       "9   WN   Southwest Airlines Co."
      ]
     },
     "execution_count": 99,
     "metadata": {},
     "output_type": "execute_result"
    }
   ],
   "source": [
    "CarrierCodeDF = pd.DataFrame({\"Code\":CarrierCode})\n",
    "\n",
    "FinalCarrierCodeDF = pd.merge(EntireCarrierDF,CarrierCodeDF, how=\"inner\", on=\"Code\" )\n",
    "\n",
    "FinalCarrierCodeDF"
   ]
  },
  {
   "cell_type": "code",
   "execution_count": 103,
   "metadata": {},
   "outputs": [
    {
     "name": "stdout",
     "output_type": "stream",
     "text": [
      "None\n",
      "<cssutils.css.CSSStyleDeclaration object length=0 (all: 0) at 0x1e9ae543080>\n",
      "\n"
     ]
    }
   ],
   "source": [
    "\n",
    "\n",
    "\n"
   ]
  },
  {
   "cell_type": "code",
   "execution_count": null,
   "metadata": {},
   "outputs": [],
   "source": []
  }
 ],
 "metadata": {
  "kernelspec": {
   "display_name": "Python 3",
   "language": "python",
   "name": "python3"
  },
  "language_info": {
   "codemirror_mode": {
    "name": "ipython",
    "version": 3
   },
   "file_extension": ".py",
   "mimetype": "text/x-python",
   "name": "python",
   "nbconvert_exporter": "python",
   "pygments_lexer": "ipython3",
   "version": "3.7.1"
  }
 },
 "nbformat": 4,
 "nbformat_minor": 2
}
